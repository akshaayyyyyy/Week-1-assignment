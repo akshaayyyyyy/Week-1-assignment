{
 "cells": [
  {
   "cell_type": "markdown",
   "id": "4bdbb4df-ed0b-4547-9729-079a254feee9",
   "metadata": {},
   "source": [
    "Q1. Create one variable containing following type of data:"
   ]
  },
  {
   "cell_type": "code",
   "execution_count": 3,
   "id": "d9004220-9c02-4064-a34c-9a662a4404a3",
   "metadata": {},
   "outputs": [
    {
     "data": {
      "text/plain": [
       "str"
      ]
     },
     "execution_count": 3,
     "metadata": {},
     "output_type": "execute_result"
    }
   ],
   "source": [
    "a = \"PW Skills\"\n",
    "type(a)"
   ]
  },
  {
   "cell_type": "code",
   "execution_count": 4,
   "id": "ca3efc06-9d46-42a6-a28e-b4242f8848d4",
   "metadata": {},
   "outputs": [
    {
     "data": {
      "text/plain": [
       "list"
      ]
     },
     "execution_count": 4,
     "metadata": {},
     "output_type": "execute_result"
    }
   ],
   "source": [
    "b = [1,2,3,4,5,\"PW Skills\", 23.4355, True]\n",
    "type(b)"
   ]
  },
  {
   "cell_type": "code",
   "execution_count": 6,
   "id": "b4067293-d7d3-47c1-bed5-f0aa8825e1f3",
   "metadata": {},
   "outputs": [
    {
     "data": {
      "text/plain": [
       "float"
      ]
     },
     "execution_count": 6,
     "metadata": {},
     "output_type": "execute_result"
    }
   ],
   "source": [
    "c = 54.5513463\n",
    "type(c)"
   ]
  },
  {
   "cell_type": "code",
   "execution_count": 8,
   "id": "92bcf10b-6836-4376-b91f-3bd301c2f02b",
   "metadata": {},
   "outputs": [
    {
     "data": {
      "text/plain": [
       "tuple"
      ]
     },
     "execution_count": 8,
     "metadata": {},
     "output_type": "execute_result"
    }
   ],
   "source": [
    "d = (5,778,64,3,\"akshay\", 643.43545, 4+5j)\n",
    "type(d)"
   ]
  },
  {
   "cell_type": "markdown",
   "id": "7be579b2-f3bc-43c3-8203-79bfb1d88327",
   "metadata": {},
   "source": [
    "Q2. Given are some following variables containing data:"
   ]
  },
  {
   "cell_type": "code",
   "execution_count": null,
   "id": "0d208867-83de-4a2e-a7f3-39973dbe8abb",
   "metadata": {},
   "outputs": [],
   "source": [
    "var1 = \" \"\n",
    "string type"
   ]
  },
  {
   "cell_type": "code",
   "execution_count": null,
   "id": "b5fe2e7b-b6cb-42fe-b940-c91aaedebc00",
   "metadata": {},
   "outputs": [],
   "source": [
    "var2 = = ‘[ DS , ML , Python]’\n",
    "string type"
   ]
  },
  {
   "cell_type": "code",
   "execution_count": null,
   "id": "e200a7aa-d997-4898-a2f6-9a96910643f4",
   "metadata": {},
   "outputs": [],
   "source": [
    "var3 = [ ‘DS’ , ’ML’ , ‘Python’ ]\n",
    "list type"
   ]
  },
  {
   "cell_type": "code",
   "execution_count": null,
   "id": "84873b64-b13a-46da-a757-c8b6d07dbb21",
   "metadata": {},
   "outputs": [],
   "source": [
    "var4 = 1.\n",
    "float type"
   ]
  },
  {
   "cell_type": "markdown",
   "id": "cb0b4cd5-fbcf-4a78-b644-98d083e328d5",
   "metadata": {},
   "source": [
    "Q3. Explain the use of the following operators using an example"
   ]
  },
  {
   "cell_type": "code",
   "execution_count": 14,
   "id": "d40f3c33-981b-45fe-838a-9af1100c2926",
   "metadata": {},
   "outputs": [
    {
     "data": {
      "text/plain": [
       "2.0"
      ]
     },
     "execution_count": 14,
     "metadata": {},
     "output_type": "execute_result"
    }
   ],
   "source": [
    "10/5"
   ]
  },
  {
   "cell_type": "code",
   "execution_count": 18,
   "id": "dcbda713-0952-4f46-9481-1275f06d3940",
   "metadata": {},
   "outputs": [
    {
     "data": {
      "text/plain": [
       "1"
      ]
     },
     "execution_count": 18,
     "metadata": {},
     "output_type": "execute_result"
    }
   ],
   "source": [
    "16%3"
   ]
  },
  {
   "cell_type": "code",
   "execution_count": 19,
   "id": "f957176b-ae7e-4e5e-8aaa-3f1373fc18b3",
   "metadata": {},
   "outputs": [
    {
     "data": {
      "text/plain": [
       "3"
      ]
     },
     "execution_count": 19,
     "metadata": {},
     "output_type": "execute_result"
    }
   ],
   "source": [
    "9 // 3"
   ]
  },
  {
   "cell_type": "code",
   "execution_count": 20,
   "id": "9809b26d-fa98-4a2a-b630-e761d7dc14d0",
   "metadata": {},
   "outputs": [
    {
     "data": {
      "text/plain": [
       "16"
      ]
     },
     "execution_count": 20,
     "metadata": {},
     "output_type": "execute_result"
    }
   ],
   "source": [
    "4 ** 2"
   ]
  },
  {
   "cell_type": "markdown",
   "id": "e7ecf3b8-ebdc-4d5d-bb3e-cb3202f97979",
   "metadata": {},
   "source": [
    "Q4. Create a list of length 10 of your choice containing multiple types of data. Using for loop print the \n",
    "element and its data type."
   ]
  },
  {
   "cell_type": "code",
   "execution_count": 25,
   "id": "c61ac693-7015-452e-a881-4d04135ddd1d",
   "metadata": {},
   "outputs": [],
   "source": [
    "e = (2,3,4,5,6,\"PW Skills\", 5655.56, 5+4j, True)"
   ]
  },
  {
   "cell_type": "code",
   "execution_count": 26,
   "id": "69b9d9cf-7450-4e8a-b3a9-1d45301a5f98",
   "metadata": {},
   "outputs": [
    {
     "data": {
      "text/plain": [
       "(2, 3, 4, 5, 6, 'PW Skills', 5655.56, (5+4j), True)"
      ]
     },
     "execution_count": 26,
     "metadata": {},
     "output_type": "execute_result"
    }
   ],
   "source": [
    "e"
   ]
  },
  {
   "cell_type": "code",
   "execution_count": 27,
   "id": "864c34ad-d302-4d68-a4f1-00ee920d0053",
   "metadata": {},
   "outputs": [
    {
     "name": "stdout",
     "output_type": "stream",
     "text": [
      "<class 'int'>\n",
      "<class 'int'>\n",
      "<class 'int'>\n",
      "<class 'int'>\n",
      "<class 'int'>\n",
      "<class 'str'>\n",
      "<class 'float'>\n",
      "<class 'complex'>\n",
      "<class 'bool'>\n"
     ]
    }
   ],
   "source": [
    "for i in e:\n",
    "    print(type(i))"
   ]
  },
  {
   "cell_type": "markdown",
   "id": "e4a5ff72-4e4b-4ee2-becd-41c5f9382719",
   "metadata": {},
   "source": [
    "Q5. Using a while loop, verify if the number A is purely divisible by number B and if so then how many \n",
    "times it can be divisible"
   ]
  },
  {
   "cell_type": "code",
   "execution_count": null,
   "id": "85b3596b-f412-4b88-9339-b87b96bf9753",
   "metadata": {},
   "outputs": [],
   "source": [
    "f = 10\n",
    "g = 2\n",
    "while f / g :\n",
    "    print(f)\n",
    "    f = f+2"
   ]
  },
  {
   "cell_type": "markdown",
   "id": "c070e537-3eb7-4750-a33d-d8439f54e4e2",
   "metadata": {},
   "source": [
    "Q6. Create a list containing 25 int type data. Using for loop and if-else condition print if the element is \n",
    "divisible by 3 or not."
   ]
  },
  {
   "cell_type": "code",
   "execution_count": 12,
   "id": "d2dc0525-0f65-46f8-9b92-033711a51ae8",
   "metadata": {},
   "outputs": [],
   "source": [
    "num_list = list(range(25))"
   ]
  },
  {
   "cell_type": "code",
   "execution_count": 13,
   "id": "7d438aca-199a-47ab-b26e-7ce5e29cc2ef",
   "metadata": {},
   "outputs": [
    {
     "data": {
      "text/plain": [
       "[0,\n",
       " 1,\n",
       " 2,\n",
       " 3,\n",
       " 4,\n",
       " 5,\n",
       " 6,\n",
       " 7,\n",
       " 8,\n",
       " 9,\n",
       " 10,\n",
       " 11,\n",
       " 12,\n",
       " 13,\n",
       " 14,\n",
       " 15,\n",
       " 16,\n",
       " 17,\n",
       " 18,\n",
       " 19,\n",
       " 20,\n",
       " 21,\n",
       " 22,\n",
       " 23,\n",
       " 24]"
      ]
     },
     "execution_count": 13,
     "metadata": {},
     "output_type": "execute_result"
    }
   ],
   "source": [
    "num_list"
   ]
  },
  {
   "cell_type": "code",
   "execution_count": 14,
   "id": "065332a6-bc37-4c54-a573-05eab62c0d14",
   "metadata": {},
   "outputs": [
    {
     "name": "stdout",
     "output_type": "stream",
     "text": [
      "0\n",
      "it is divisible by 3\n",
      "1\n",
      "it is not divisible by 3\n",
      "2\n",
      "it is not divisible by 3\n",
      "3\n",
      "it is divisible by 3\n",
      "4\n",
      "it is not divisible by 3\n",
      "5\n",
      "it is not divisible by 3\n",
      "6\n",
      "it is divisible by 3\n",
      "7\n",
      "it is not divisible by 3\n",
      "8\n",
      "it is not divisible by 3\n",
      "9\n",
      "it is divisible by 3\n",
      "10\n",
      "it is not divisible by 3\n",
      "11\n",
      "it is not divisible by 3\n",
      "12\n",
      "it is divisible by 3\n",
      "13\n",
      "it is not divisible by 3\n",
      "14\n",
      "it is not divisible by 3\n",
      "15\n",
      "it is divisible by 3\n",
      "16\n",
      "it is not divisible by 3\n",
      "17\n",
      "it is not divisible by 3\n",
      "18\n",
      "it is divisible by 3\n",
      "19\n",
      "it is not divisible by 3\n",
      "20\n",
      "it is not divisible by 3\n",
      "21\n",
      "it is divisible by 3\n",
      "22\n",
      "it is not divisible by 3\n",
      "23\n",
      "it is not divisible by 3\n",
      "24\n",
      "it is divisible by 3\n"
     ]
    }
   ],
   "source": [
    "for val in num_list:\n",
    "    print(val)\n",
    "    if val%3 == 0:\n",
    "        print(\"it is divisible by 3\")\n",
    "    else:\n",
    "        print(\"it is not divisible by 3\")"
   ]
  },
  {
   "cell_type": "markdown",
   "id": "16e9b894-3a43-4a48-ad6f-6e08581e1ef2",
   "metadata": {},
   "source": [
    "Q7. What do you understand about mutable and immutable data types? Give examples for both showing \n",
    "this property."
   ]
  },
  {
   "cell_type": "code",
   "execution_count": 27,
   "id": "427654fa-1324-456e-acb0-920a63283790",
   "metadata": {},
   "outputs": [],
   "source": [
    "z = [1,2,3,4,5,5,6,\"akshay\",12.345,False]"
   ]
  },
  {
   "cell_type": "code",
   "execution_count": 29,
   "id": "22fdaa62-8003-4ecd-a969-6526c2396430",
   "metadata": {},
   "outputs": [
    {
     "data": {
      "text/plain": [
       "[1, 2, 3, 4, 5, 5, 6, 'ok', 12.345, False]"
      ]
     },
     "execution_count": 29,
     "metadata": {},
     "output_type": "execute_result"
    }
   ],
   "source": [
    "z"
   ]
  },
  {
   "cell_type": "code",
   "execution_count": 31,
   "id": "0f8cc0e5-8395-4364-80b9-89f60f5c765a",
   "metadata": {},
   "outputs": [],
   "source": [
    "z[7] = \"PWSkills\""
   ]
  },
  {
   "cell_type": "code",
   "execution_count": 32,
   "id": "3cb40b0e-e47f-4d3d-8d3d-7de5194d34fe",
   "metadata": {},
   "outputs": [
    {
     "data": {
      "text/plain": [
       "[1, 2, 3, 4, 5, 5, 6, 'PWSkills', 12.345, False]"
      ]
     },
     "execution_count": 32,
     "metadata": {},
     "output_type": "execute_result"
    }
   ],
   "source": [
    "z"
   ]
  },
  {
   "cell_type": "markdown",
   "id": "2167c64c-9ac4-436d-8cb0-ccc8b1706cdb",
   "metadata": {},
   "source": [
    "list is mutuable object"
   ]
  },
  {
   "cell_type": "code",
   "execution_count": null,
   "id": "8c230d71-1995-4089-afe9-8fc3e5264772",
   "metadata": {},
   "outputs": [],
   "source": []
  },
  {
   "cell_type": "code",
   "execution_count": 33,
   "id": "70fffd3d-f031-495d-8ba9-7b81a1e26c3a",
   "metadata": {},
   "outputs": [],
   "source": [
    "y = \"ramesh\""
   ]
  },
  {
   "cell_type": "code",
   "execution_count": 34,
   "id": "0094310a-f3cf-490e-94a2-7e6a7f89b090",
   "metadata": {},
   "outputs": [
    {
     "data": {
      "text/plain": [
       "'ramesh'"
      ]
     },
     "execution_count": 34,
     "metadata": {},
     "output_type": "execute_result"
    }
   ],
   "source": [
    "y"
   ]
  },
  {
   "cell_type": "code",
   "execution_count": 35,
   "id": "9cee8abd-ffa5-4b4d-8349-0a54098005f6",
   "metadata": {},
   "outputs": [
    {
     "ename": "TypeError",
     "evalue": "'str' object does not support item assignment",
     "output_type": "error",
     "traceback": [
      "\u001b[0;31m---------------------------------------------------------------------------\u001b[0m",
      "\u001b[0;31mTypeError\u001b[0m                                 Traceback (most recent call last)",
      "Cell \u001b[0;32mIn[35], line 1\u001b[0m\n\u001b[0;32m----> 1\u001b[0m \u001b[43my\u001b[49m\u001b[43m[\u001b[49m\u001b[38;5;241;43m3\u001b[39;49m\u001b[43m]\u001b[49m \u001b[38;5;241m=\u001b[39m \u001b[38;5;124m\"\u001b[39m\u001b[38;5;124mf\u001b[39m\u001b[38;5;124m\"\u001b[39m\n",
      "\u001b[0;31mTypeError\u001b[0m: 'str' object does not support item assignment"
     ]
    }
   ],
   "source": [
    "y[3] = \"f\""
   ]
  },
  {
   "cell_type": "markdown",
   "id": "437761b2-999c-4984-b880-c916ada53811",
   "metadata": {},
   "source": [
    "string is immutuable object"
   ]
  }
 ],
 "metadata": {
  "kernelspec": {
   "display_name": "Python 3 (ipykernel)",
   "language": "python",
   "name": "python3"
  },
  "language_info": {
   "codemirror_mode": {
    "name": "ipython",
    "version": 3
   },
   "file_extension": ".py",
   "mimetype": "text/x-python",
   "name": "python",
   "nbconvert_exporter": "python",
   "pygments_lexer": "ipython3",
   "version": "3.10.8"
  }
 },
 "nbformat": 4,
 "nbformat_minor": 5
}
